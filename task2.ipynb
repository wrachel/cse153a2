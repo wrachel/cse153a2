{
 "cells": [
  {
   "cell_type": "code",
   "execution_count": 6,
   "id": "9c93c192",
   "metadata": {},
   "outputs": [],
   "source": [
    "import numpy as np\n",
    "import matplotlib.pyplot as plt\n",
    "import matplotlib.gridspec as gridspec\n",
    "import os\n",
    "from os import listdir\n",
    "import glob\n",
    "import pretty_midi\n",
    "import librosa\n",
    "import sys"
   ]
  },
  {
   "cell_type": "code",
   "execution_count": 7,
   "id": "a3459c4a",
   "metadata": {},
   "outputs": [],
   "source": [
    "def forward(t):\n",
    "    #converts midi to gan readable midi\n",
    "    ret = t[24:102, :]\n",
    "    for i in np.arange(np.shape(ret)[0]):\n",
    "        for j in np.arange(np.shape(ret)[1]):\n",
    "            if(ret[i,j]>0):\n",
    "                ret[i,j] = 1\n",
    "    rhythm = np.zeros((78, np.shape(ret)[1]))\n",
    "    for i in np.arange(np.shape(ret)[0]):\n",
    "        if(ret[i, 0] > 0):\n",
    "            rhythm[i, 0] = 1\n",
    "\n",
    "    for i in np.arange(np.shape(ret)[0]):\n",
    "        for j in np.arange(np.shape(ret)[1]):\n",
    "            if(j == 0):\n",
    "                 continue\n",
    "\n",
    "            if(ret[i, j] > 0 and ret[i, j-1] == 0):\n",
    "                rhythm[i, j] = 1\n",
    "    res = np.concatenate((ret, rhythm))\n",
    "    res = res[:, ::2]\n",
    "    res = np.transpose(res)\n",
    "    return res\n",
    "\n",
    "\n",
    "def back(res):\n",
    "    #gan readable midi to pretty-midi\n",
    "    #res = np.transpose(res)\n",
    "    inputnotes = res[:78, :np.shape(res)[1]]\n",
    "    inputrhythm = res[78:, :np.shape(res)[1]]\n",
    "    midiback = np.zeros((78, 2*np.shape(inputnotes)[1]))\n",
    "    for i in np.arange(np.shape(inputnotes)[0]):\n",
    "        for j in np.arange(np.shape(inputnotes)[1]):\n",
    "            midiback[i, 2*j] = inputnotes[i, j]\n",
    "            midiback[i, 2*j+1] = inputnotes[i, j]\n",
    "    for i in np.arange(np.shape(inputnotes)[0]):\n",
    "        for j in np.arange(np.shape(inputrhythm)[1]):\n",
    "            if(j == 0):\n",
    "                continue\n",
    "            if(inputrhythm[i, j] == 1):\n",
    "                midiback[i, 2*j-1] = 0\n",
    "            \n",
    "    for i in np.arange(np.shape(midiback)[0]):\n",
    "        for j in np.arange(np.shape(midiback)[1]):\n",
    "            if(midiback[i, j] > 0):\n",
    "                midiback[i, j] = 100\n",
    "                \n",
    "    tempblock = np.zeros((24, np.shape(midiback)[1]))\n",
    "    tempblock2 = np.zeros((26, np.shape(midiback)[1]))\n",
    "\n",
    "    tomidi = np.concatenate((tempblock, midiback))\n",
    "    fina = np.concatenate((tomidi, tempblock2))\n",
    "    \n",
    "    return fina\n"
   ]
  },
  {
   "cell_type": "code",
   "execution_count": 8,
   "id": "c9c61f34",
   "metadata": {},
   "outputs": [],
   "source": [
    "def get_songs(path):\n",
    "    files = glob.glob('{}/*.mid*'.format(path))\n",
    "    songs = []\n",
    "    for f in files:\n",
    "        try:\n",
    "            data = pretty_midi.PrettyMIDI(f)\n",
    "            song = data.get_piano_roll(fs=16)\n",
    "            song = convert.forward(song)\n",
    "            songs.append(song)\n",
    "        except Exception as e:\n",
    "            raise e\n",
    "    return songs"
   ]
  },
  {
   "cell_type": "code",
   "execution_count": 9,
   "id": "911ef1d9",
   "metadata": {},
   "outputs": [],
   "source": [
    "def get_chromas(songs):\n",
    "    chromas = []\n",
    "    for song in songs:\n",
    "        chroma = np.zeros(shape=(np.shape(song)[0], 12))\n",
    "        for i in np.arange(np.shape(song)[0]):\n",
    "            for j in np.arange(78):\n",
    "                if song[i][j] > 0:\n",
    "                    chroma[i][np.mod(j,12)] += 1\n",
    "        chromas.append(chroma)\n",
    "\n",
    "    return chromas"
   ]
  },
  {
   "cell_type": "code",
   "execution_count": 10,
   "id": "316a6d95",
   "metadata": {},
   "outputs": [
    {
     "name": "stdout",
     "output_type": "stream",
     "text": [
      "0 songs processed\n",
      "0 chromas processed\n"
     ]
    }
   ],
   "source": [
    "songs = get_songs('./drive/MyDrive/Classical_Music_Midi/chopin')\n",
    "chromas = get_chromas(songs)\n",
    "print (\"{} songs processed\".format(len(songs)))\n",
    "print (\"{} chromas processed\".format(len(chromas)))"
   ]
  },
  {
   "cell_type": "code",
   "execution_count": null,
   "id": "499900a0",
   "metadata": {},
   "outputs": [],
   "source": []
  }
 ],
 "metadata": {
  "kernelspec": {
   "display_name": "capstone",
   "language": "python",
   "name": "python3"
  },
  "language_info": {
   "codemirror_mode": {
    "name": "ipython",
    "version": 3
   },
   "file_extension": ".py",
   "mimetype": "text/x-python",
   "name": "python",
   "nbconvert_exporter": "python",
   "pygments_lexer": "ipython3",
   "version": "3.12.6"
  }
 },
 "nbformat": 4,
 "nbformat_minor": 5
}
