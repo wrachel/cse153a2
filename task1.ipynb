{
 "cells": [
  {
   "cell_type": "markdown",
   "id": "f156426b",
   "metadata": {},
   "source": []
  }
 ],
 "metadata": {
  "language_info": {
   "name": "python"
  }
 },
 "nbformat": 4,
 "nbformat_minor": 5
}
