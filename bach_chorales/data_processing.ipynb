{
 "cells": [
  {
   "cell_type": "markdown",
   "id": "0f7aef7f",
   "metadata": {
    "slideshow": {
     "slide_type": "slide"
    }
   },
   "source": [
    "# Harmonization Task Using Bach Chorales"
   ]
  },
  {
   "cell_type": "markdown",
   "id": "f591959c",
   "metadata": {
    "slideshow": {
     "slide_type": "subslide"
    }
   },
   "source": [
    "<style>\n",
    "/* Scrollable slides only when content overflows */\n",
    ".reveal section {\n",
    "    overflow-y: auto !important;\n",
    "    max-height: 95vh;\n",
    "    padding: 1em;\n",
    "}\n",
    "\n",
    "/* Prevent scrollbars unless necessary */\n",
    ".reveal section::-webkit-scrollbar {\n",
    "    width: 8px;\n",
    "}\n",
    ".reveal section::-webkit-scrollbar-thumb {\n",
    "    background-color: #bbb;\n",
    "    border-radius: 4px;\n",
    "}\n",
    ".reveal section::-webkit-scrollbar-track {\n",
    "    background: transparent;\n",
    "}\n",
    "\n",
    "/* Optional: Shrink code + output font size to fit better */\n",
    ".reveal pre, .reveal code {\n",
    "    font-size: 14px !important;\n",
    "    white-space: pre-wrap;\n",
    "    word-break: break-word;\n",
    "}\n",
    ".output_area pre {\n",
    "    font-size: 13px !important;\n",
    "}\n",
    "</style>\n"
   ]
  },
  {
   "cell_type": "code",
   "execution_count": null,
   "id": "973394ac",
   "metadata": {
    "slideshow": {
     "slide_type": "subslide"
    }
   },
   "outputs": [],
   "source": [
    "import pickle\n",
    "import numpy as np\n",
    "import torch\n",
    "from torch.utils.data import Dataset, DataLoader\n",
    "import matplotlib.pyplot as plt\n",
    "from utils2 import *\n",
    "from collections import Counter\n",
    "import torch\n",
    "import torch.nn as nn\n",
    "import torch.nn.functional as F\n",
    "import torch.optim as optim\n",
    "from torch.utils.tensorboard import SummaryWriter\n",
    "import numpy as np\n",
    "import matplotlib.pyplot as plt\n",
    "from pathlib import Path\n",
    "import time\n",
    "import random\n",
    "from network import *\n",
    "from generate import *\n",
    "\n",
    "import sys\n",
    "sys.path.append('.')"
   ]
  },
  {
   "cell_type": "markdown",
   "id": "5d7b8ec2",
   "metadata": {
    "slideshow": {
     "slide_type": "subslide"
    }
   },
   "source": [
    "- https://github.com/czhuang/JSB-Chorales-dataset\n",
    "- Boulanger-Lewandowski, N., Vincent, P., & Bengio, Y. (2012). Modeling Temporal Dependencies in High-Dimensional Sequences: Application to Polyphonic Music Generation and Transcription. Proceedings of the 29th International Conference on Machine Learning (ICML-12), 1159–1166.\n",
    "\n",
    "- https://medium.com/@arsenaultk9/artificial-intelligence-music-generation-melody-harmonization-pt1-cb3e92c9a0ca \n",
    "- Kevin Summerian"
   ]
  },
  {
   "cell_type": "code",
   "execution_count": null,
   "id": "54fe9af1",
   "metadata": {
    "slideshow": {
     "slide_type": "subslide"
    }
   },
   "outputs": [
    {
     "name": "stdout",
     "output_type": "stream",
     "text": [
      "✅ Loaded original Bach chorales dataset\n",
      "Original dataset:\n",
      "  Train: 229 songs\n",
      "  Test: 77 songs\n",
      "  Valid: 76 songs\n"
     ]
    }
   ],
   "source": [
    "def load_original_data():\n",
    "    \"\"\"Load the original Bach chorales dataset\"\"\"\n",
    "    try:\n",
    "        with open('./data/jsb-chorales-16th.pkl', 'rb') as file:\n",
    "            midi_data = pickle.load(file, encoding=\"latin1\")\n",
    "        print(\"✅ Loaded original Bach chorales dataset\")\n",
    "        return midi_data\n",
    "    except FileNotFoundError:\n",
    "        print(\"❌ Original dataset not found at './data/jsb-chorales-16th.pkl'\")\n",
    "        print(\"Please ensure you have the original Bach chorales dataset file.\")\n",
    "        raise\n",
    "\n",
    "midi_data = load_original_data()\n",
    "\n",
    "print(f\"Original dataset:\")\n",
    "print(f\"  Train: {len(midi_data['train'])} songs\")\n",
    "print(f\"  Test: {len(midi_data['test'])} songs\")\n",
    "print(f\"  Valid: {len(midi_data['valid'])} songs\")"
   ]
  },
  {
   "cell_type": "markdown",
   "id": "8e2d5544",
   "metadata": {
    "slideshow": {
     "slide_type": "subslide"
    }
   },
   "source": [
    "## Introduction & Background\n",
    "\n",
    "### What are Bach Chorales?\n",
    "Johann Sebastian Bach composed hundreds of four-part chorales (hymns) that are considered masterpieces of Western harmony. Each chorale has four voices:\n",
    "- **Soprano** (highest voice, melody)\n",
    "- **Alto** (second highest)\n",
    "- **Tenor** (second lowest)\n",
    "- **Bass** (lowest voice, foundation)\n"
   ]
  },
  {
   "cell_type": "markdown",
   "id": "1869c360",
   "metadata": {
    "slideshow": {
     "slide_type": "subslide"
    }
   },
   "source": [
    "### The Machine Learning Goal\n",
    "We want to train a neural network that can:\n",
    "1. Take a soprano melody as input\n",
    "2. Generate harmonious alto, tenor, and bass parts\n",
    "3. Create music that sounds like Bach's style\n",
    "\n",
    "### The Dataset\n",
    "The **JSB Chorales dataset** contains 382 Bach chorales in a digital format, split into:\n",
    "- **Train**: 229 chorales (for learning)\n",
    "- **Test**: 77 chorales (for final evaluation)\n",
    "- **Valid**: 76 chorales (for tuning during training)"
   ]
  },
  {
   "cell_type": "markdown",
   "id": "e919342f",
   "metadata": {
    "slideshow": {
     "slide_type": "subslide"
    }
   },
   "source": [
    "## Understanding the Raw Data\n",
    "\n",
    "### Data Format: Tuple Representation\n",
    "Each chorale is stored as a sequence of tuples, where each tuple represents one moment in time (0.25 beats):\n",
    "\n",
    "```python\n",
    "# Example: First few moments of a chorale\n",
    "[\n",
    "    (69, 65, 60, 53),  # Time step 0: Soprano=69, Alto=65, Tenor=60, Bass=53\n",
    "    (69, 65, 60, 53),  # Time step 1: Same notes held\n",
    "    (71, 67, 62, 55),  # Time step 2: All voices move to new notes\n",
    "    (72, 69, 64, 57),  # Time step 3: Harmony progression continues\n",
    "    # ... continues for entire piece\n",
    "]\n",
    "```"
   ]
  },
  {
   "cell_type": "markdown",
   "id": "5e5078ff",
   "metadata": {
    "slideshow": {
     "slide_type": "subslide"
    }
   },
   "source": [
    "### MIDI Note Numbers\n",
    "Each number represents a MIDI note:\n",
    "- **60** = Middle C\n",
    "- **69** = A above middle C\n",
    "- **53** = F below middle C\n",
    "- Higher numbers = higher pitches\n",
    "\n",
    "### Key Characteristics\n",
    "- **Time Resolution**: Each tuple = 0.25 beats (16th note)\n",
    "- **Always 4 voices**: Soprano, Alto, Tenor, Bass (in that order)\n",
    "- **Variable Length**: Songs range from ~50 to 400+ time steps\n",
    "- **Harmonic Structure**: Notes chosen to create beautiful chord progressions"
   ]
  },
  {
   "cell_type": "code",
   "execution_count": 2,
   "id": "acfc6ccf",
   "metadata": {
    "slideshow": {
     "slide_type": "subslide"
    }
   },
   "outputs": [
    {
     "name": "stdout",
     "output_type": "stream",
     "text": [
      "Dataset Statistics:\n",
      "  Total songs: 382\n",
      "  Average song length: 242.2 time steps\n",
      "  Note range: 36 to 81\n",
      "  Total notes: 368860\n"
     ]
    },
    {
     "data": {
      "image/png": "[encoded data removed]",
      "text/plain": [
       "<Figure size 1000x400 with 2 Axes>"
      ]
     },
     "metadata": {},
     "output_type": "display_data"
    }
   ],
   "source": [
    "stats = analyze_dataset(midi_data)"
   ]
  },
  {
   "cell_type": "markdown",
   "id": "603d4ea5",
   "metadata": {
    "slideshow": {
     "slide_type": "subslide"
    }
   },
   "source": [
    "## Step 1: Data Augmentation Pipeline\n",
    "\n",
    "### Problem: Limited Training Data\n",
    "- Only 229 training chorales\n",
    "- Neural networks need thousands of examples\n",
    "- Solution: Create variations that preserve musical structure\n",
    "\n",
    "### Stage 1A: Convert to Structured Format\n",
    "\n",
    "#### From Tuples to Note Objects\n",
    "We convert the simple tuple format into rich **NoteInfo** objects:\n",
    "\n",
    "\n",
    "\n",
    "#### Why This Conversion?\n",
    "The tuple format only shows \"what notes are playing now.\" This allows us to be able convert these discrete time steps into midi files a lot easier as we capture:\n",
    "\n",
    "- **When** each note starts\n",
    "- **How long** each note lasts  \n",
    "- **What pitch** it is\n",
    "- **Which voice** it belongs to\n",
    "\n"
   ]
  },
  {
   "cell_type": "code",
   "execution_count": 3,
   "id": "6b4d4e7d",
   "metadata": {
    "slideshow": {
     "slide_type": "subslide"
    }
   },
   "outputs": [
    {
     "name": "stdout",
     "output_type": "stream",
     "text": [
      "\n",
      "🎵 Note Info Conversion Test:\n",
      "  Soprano: 34 notes\n",
      "    First note: NoteInfo(beat=0.0, pitch=74, length=1.0)\n",
      "  Alto: 30 notes\n",
      "    First note: NoteInfo(beat=0.0, pitch=70, length=2.0)\n",
      "  Tenor: 34 notes\n",
      "    First note: NoteInfo(beat=0.0, pitch=65, length=1.0)\n",
      "  Bass: 49 notes\n",
      "    First note: NoteInfo(beat=0.0, pitch=58, length=1.0)\n"
     ]
    }
   ],
   "source": [
    "sample_song = midi_data['train'][0]\n",
    "sample_note_info = generate_note_info(sample_song)\n",
    "\n",
    "print(f\"\\n🎵 Note Info Conversion Test:\")\n",
    "voice_names = ['Soprano', 'Alto', 'Tenor', 'Bass']\n",
    "for i, voice_notes in enumerate(sample_note_info):\n",
    "    print(f\"  {voice_names[i]}: {len(voice_notes)} notes\")\n",
    "    if voice_notes:\n",
    "        print(f\"    First note: {voice_notes[0]}\")"
   ]
  },
  {
   "cell_type": "code",
   "execution_count": 4,
   "id": "291e257d",
   "metadata": {
    "slideshow": {
     "slide_type": "subslide"
    }
   },
   "outputs": [
    {
     "name": "stdout",
     "output_type": "stream",
     "text": [
      "Created track for Soprano with 34 notes\n",
      "Created track for Alto with 30 notes\n",
      "Created track for Tenor with 34 notes\n",
      "Created track for Bass with 49 notes\n",
      "MIDI file saved: generated_midi/test.mid\n"
     ]
    },
    {
     "data": {
      "text/plain": [
       "'generated_midi/test.mid'"
      ]
     },
     "execution_count": 4,
     "metadata": {},
     "output_type": "execute_result"
    }
   ],
   "source": [
    "generate_midi_file(sample_note_info, 'test.mid')"
   ]
  },
  {
   "cell_type": "markdown",
   "id": "d32de6db",
   "metadata": {
    "slideshow": {
     "slide_type": "subslide"
    }
   },
   "source": [
    "### Stage 1B: Musical Augmentations\n",
    "\n",
    "#### Scale Transposition (12 variations)\n",
    "We transpose each chorale to different keys:\n",
    "\n",
    "```python\n",
    "# Original in C major: (60, 64, 67, 72) - C major chord\n",
    "# Transpose +2 semitones: (62, 66, 69, 74) - D major chord  \n",
    "# Transpose -3 semitones: (57, 61, 64, 69) - A major chord\n",
    "```\n",
    "\n",
    "**Why this works**: \n",
    "- Harmonic relationships stay the same\n",
    "- Just shifts everything up/down by same amount\n",
    "- Creates 12 versions: -5 to +6 semitones\n"
   ]
  },
  {
   "cell_type": "markdown",
   "id": "c2c4a40a",
   "metadata": {
    "slideshow": {
     "slide_type": "subslide"
    }
   },
   "source": [
    "\n",
    "#### Rhythmic Variation (4 variations per scale)\n",
    "We randomly join short notes together:\n",
    "\n",
    "```python\n",
    "# Original rhythm:\n",
    "Note(beat=0, length=0.25)  # Short note\n",
    "Note(beat=0.25, length=0.25)  # Another short note\n",
    "\n",
    "# After joining:\n",
    "Note(beat=0, length=0.5)  # One longer note\n",
    "```\n",
    "\n",
    "**Why this works**:\n",
    "- Preserves harmony but varies rhythm\n",
    "- Creates natural musical variations\n",
    "- Bach often used both short and long note values"
   ]
  },
  {
   "cell_type": "code",
   "execution_count": 5,
   "id": "94794430",
   "metadata": {
    "slideshow": {
     "slide_type": "subslide"
    }
   },
   "outputs": [
    {
     "name": "stdout",
     "output_type": "stream",
     "text": [
      "\n",
      "🔄 Augmentation Test:\n",
      "  Original song generated 48 augmented versions\n",
      "  Expected: 12 scales × 4 note variations = 48 versions\n"
     ]
    }
   ],
   "source": [
    "sample_augmentations = augment_song_data(sample_note_info)\n",
    "print(f\"\\n🔄 Augmentation Test:\")\n",
    "print(f\"  Original song generated {len(sample_augmentations)} augmented versions\")\n",
    "print(f\"  Expected: 12 scales × 4 note variations = 48 versions\")"
   ]
  },
  {
   "cell_type": "markdown",
   "id": "37a973c0",
   "metadata": {
    "slideshow": {
     "slide_type": "subslide"
    }
   },
   "source": [
    "### Stage 1C: Back to Tuple Format\n",
    "After augmentation, we convert back to the simple tuple format:\n",
    "\n",
    "```\n",
    "NoteInfo objects → Sample every 0.25 beats → Tuple sequences\n",
    "```\n",
    "\n",
    "### Augmentation Results\n",
    "- **Input**: 229 original chorales\n",
    "- **Output**: ~11,000 augmented chorales (48x increase!)\n",
    "- **Saved as**: `scales_note_join_augmented.pkl`\n"
   ]
  },
  {
   "cell_type": "code",
   "execution_count": 6,
   "id": "f1fb310b",
   "metadata": {
    "slideshow": {
     "slide_type": "subslide"
    }
   },
   "outputs": [
    {
     "name": "stdout",
     "output_type": "stream",
     "text": [
      "\n",
      "🔄 Tuple Reconstruction Test:\n",
      "  Original song length: 192 time steps\n",
      "  Reconstructed length: 184 time steps\n",
      "  Original first chord: (np.int64(74), np.int64(70), np.int64(65), np.int64(58))\n",
      "  Reconstructed first chord: (74, 70, 65, 58)\n"
     ]
    }
   ],
   "source": [
    "sample_tuple_reconstruction = generate_tuple_form(sample_note_info)\n",
    "print(f\"\\n🔄 Tuple Reconstruction Test:\")\n",
    "print(f\"  Original song length: {len(sample_song)} time steps\")\n",
    "print(f\"  Reconstructed length: {len(sample_tuple_reconstruction)} time steps\")\n",
    "print(f\"  Original first chord: {sample_song[0]}\")\n",
    "print(f\"  Reconstructed first chord: {sample_tuple_reconstruction[0]}\")"
   ]
  },
  {
   "cell_type": "code",
   "execution_count": 7,
   "id": "2286ce16",
   "metadata": {
    "slideshow": {
     "slide_type": "subslide"
    }
   },
   "outputs": [
    {
     "name": "stdout",
     "output_type": "stream",
     "text": [
      "🚀 Starting full dataset augmentation...\n",
      "  Augmenting song 10 of 229 songs\n",
      "  Augmenting song 20 of 229 songs\n",
      "  Augmenting song 30 of 229 songs\n",
      "  Augmenting song 40 of 229 songs\n",
      "  Augmenting song 50 of 229 songs\n",
      "  Augmenting song 60 of 229 songs\n",
      "  Augmenting song 70 of 229 songs\n",
      "  Augmenting song 80 of 229 songs\n",
      "  Augmenting song 90 of 229 songs\n",
      "  Augmenting song 100 of 229 songs\n",
      "  Augmenting song 110 of 229 songs\n",
      "  Augmenting song 120 of 229 songs\n",
      "  Augmenting song 130 of 229 songs\n",
      "  Augmenting song 140 of 229 songs\n",
      "  Augmenting song 150 of 229 songs\n",
      "  Augmenting song 160 of 229 songs\n",
      "  Augmenting song 170 of 229 songs\n",
      "  Augmenting song 180 of 229 songs\n",
      "  Augmenting song 190 of 229 songs\n",
      "  Augmenting song 200 of 229 songs\n",
      "  Augmenting song 210 of 229 songs\n",
      "  Augmenting song 220 of 229 songs\n",
      "\n",
      "✅ Augmentation completed!\n",
      "  Original training songs: 229\n",
      "  Augmented training songs: 10992\n",
      "  Augmentation factor: 48.0x\n"
     ]
    }
   ],
   "source": [
    "augmented_midi_data = augment_full_dataset(midi_data)"
   ]
  },
  {
   "cell_type": "code",
   "execution_count": 8,
   "id": "84e442f2",
   "metadata": {
    "slideshow": {
     "slide_type": "subslide"
    }
   },
   "outputs": [
    {
     "name": "stdout",
     "output_type": "stream",
     "text": [
      "💾 Augmented dataset saved to: ./data/scales_note_join_augmented.pkl\n",
      "  File size: 30.1 MB\n",
      "\n",
      "🔍 Verifying saved data...\n",
      "✅ Successfully loaded augmented dataset\n",
      "  Train: 10992 songs\n",
      "  Test: 77 songs\n",
      "  Valid: 76 songs\n",
      "  Sample song length: 184 time steps\n",
      "  Sample first chord: (69, 65, 60, 53)\n",
      "\n",
      "======================================================================\n",
      "🎉 COMPLETE AUGMENTATION PIPELINE FINISHED!\n",
      "======================================================================\n",
      "\n",
      "📁 Generated file: ./data/scales_note_join_augmented.pkl\n"
     ]
    }
   ],
   "source": [
    "output_file = save_augmented_dataset(augmented_midi_data)\n",
    "\n",
    "\n",
    "verify_saved_data(output_file)\n",
    "\n",
    "print(\"\\n\" + \"=\"*70)\n",
    "print(\"🎉 COMPLETE AUGMENTATION PIPELINE FINISHED!\")\n",
    "print(\"=\"*70)\n",
    "print(f\"\\n📁 Generated file: ./data/scales_note_join_augmented.pkl\")"
   ]
  },
  {
   "cell_type": "markdown",
   "id": "9a206d42",
   "metadata": {
    "slideshow": {
     "slide_type": "subslide"
    }
   },
   "source": [
    "## Step 2: Training Data Preparation"
   ]
  },
  {
   "cell_type": "code",
   "execution_count": 9,
   "id": "603ef400",
   "metadata": {
    "slideshow": {
     "slide_type": "subslide"
    }
   },
   "outputs": [
    {
     "name": "stdout",
     "output_type": "stream",
     "text": [
      "Loaded ./data/scales_note_join_augmented.pkl\n",
      "Dataset splits:\n",
      "  Train: 10992 songs\n",
      "  Test: 77 songs\n",
      "  Valid: 76 songs\n",
      "\n",
      "Sample song structure:\n",
      "  Length: 184 time steps\n",
      "  First chord: (69, 65, 60, 53)\n",
      "  Chord sizes: [4, 4, 4, 4, 4]\n"
     ]
    }
   ],
   "source": [
    "def load_augmented_data():\n",
    "    \"\"\"Load the previously augmented dataset\"\"\"\n",
    "    \n",
    "    path = './data/scales_note_join_augmented.pkl'  # Original pipeline output\n",
    "    \n",
    "    try:\n",
    "        with open(path, 'rb') as file:\n",
    "            midi_data = pickle.load(file, encoding=\"latin1\")\n",
    "            print(f\"Loaded {path}\")\n",
    "    except FileNotFoundError:\n",
    "        print(f\"File not found: {path}\")\n",
    "\n",
    "    \n",
    "    print(f\"Dataset splits:\")\n",
    "    print(f\"  Train: {len(midi_data['train'])} songs\")\n",
    "    print(f\"  Test: {len(midi_data['test'])} songs\") \n",
    "    print(f\"  Valid: {len(midi_data['valid'])} songs\")\n",
    "    \n",
    "    return midi_data\n",
    "\n",
    "midi_data = load_augmented_data()\n",
    "\n",
    "sample_song = midi_data['train'][0]\n",
    "print(f\"\\nSample song structure:\")\n",
    "print(f\"  Length: {len(sample_song)} time steps\")\n",
    "print(f\"  First chord: {sample_song[0]}\")\n",
    "print(f\"  Chord sizes: {[len(chord) for chord in sample_song[:5]]}\")"
   ]
  },
  {
   "cell_type": "markdown",
   "id": "f13abb13",
   "metadata": {
    "slideshow": {
     "slide_type": "subslide"
    }
   },
   "source": [
    "### Stage 2A: Voice Assignment Challenge\n",
    "\n",
    "#### The Problem\n",
    "Not all chords have exactly 4 notes. Sometimes we see:\n",
    "- `(69, 65, 60)` - Only 3 notes\n",
    "- `(69, 65)` - Only 2 notes  \n",
    "\n",
    "But our neural network expects exactly 4 voices (SATB). How do we assign notes to voices?\n",
    "\n",
    "#### The Solution: Smart Voice Tracking\n",
    "We use a **VoiceTracker** for each voice that:\n",
    "\n",
    "1. **Prefers consistency**: If soprano was playing note 69, try to keep it on 69\n",
    "2. **Respects ranges**: Soprano gets high notes, bass gets low notes\n",
    "3. **Uses musical logic**: When in doubt, soprano takes highest available note\n",
    "\n",
    "```python\n",
    "# Example assignment logic:\n",
    "chord = (65, 69, 72)  # 3 notes available\n",
    "# Soprano (highest): gets 72\n",
    "# Alto (middle): gets 69  \n",
    "# Tenor (lower): gets 65\n",
    "# Bass: gets silence (no suitable note)\n",
    "```\n",
    "\n"
   ]
  },
  {
   "cell_type": "markdown",
   "id": "b5e62dec",
   "metadata": {
    "slideshow": {
     "slide_type": "subslide"
    }
   },
   "source": [
    "### Stage 2B: One-Hot Encoding\n",
    "\n",
    "#### Why One-Hot Encoding?\n",
    "Neural networks work with numbers, not musical concepts. We convert each note to a vector:\n",
    "\n",
    "```python\n",
    "# Note 65 in Alto voice (range 51-82, total 33 positions):\n",
    "# Position 0: Silence\n",
    "# Position 1: Note 51  \n",
    "# Position 2: Note 52\n",
    "# ...\n",
    "# Position 15: Note 65 ← This gets value 1.0\n",
    "# Position 16: Note 66\n",
    "# ...\n",
    "# Position 32: Note 82\n",
    "```\n",
    "\n",
    "#### The Encoding Process\n",
    "For each voice at each time step:\n",
    "1. Determine which note is playing (or silence)\n",
    "2. Create a vector of zeros\n",
    "3. Set exactly one position to 1.0\n",
    "\n",
    "**Result**: Each time step becomes a vector of n + 1 numbers (n possible notes + silence) depending on the SATB line. For example, for alto, there will be 33 (32 + 1) positions while bass is 40 (39 + 1) total."
   ]
  },
  {
   "cell_type": "code",
   "execution_count": 10,
   "id": "764b3743",
   "metadata": {
    "slideshow": {
     "slide_type": "subslide"
    }
   },
   "outputs": [
    {
     "name": "stdout",
     "output_type": "stream",
     "text": [
      "Voice ranges:\n",
      "  soprano: 56-87 (33 total)\n",
      "  alto: 51-82 (33 total)\n",
      "  tenor: 46-77 (33 total)\n",
      "  bass: 31-69 (40 total)\n"
     ]
    }
   ],
   "source": [
    "print(\"Voice ranges:\")\n",
    "for voice, range_obj in VOICE_RANGES.items():\n",
    "    print(f\"  {voice}: {range_obj.min_note}-{range_obj.max_note} ({range_obj.range_and_silence_length()} total)\")\n"
   ]
  },
  {
   "cell_type": "code",
   "execution_count": 11,
   "id": "02101b50",
   "metadata": {
    "slideshow": {
     "slide_type": "subslide"
    }
   },
   "outputs": [
    {
     "name": "stdout",
     "output_type": "stream",
     "text": [
      "Converting 10992 songs to one-hot encoding...\n",
      "  Processing song 1/10992\n",
      "  Processing song 101/10992\n",
      "  Processing song 201/10992\n",
      "  Processing song 301/10992\n",
      "  Processing song 401/10992\n",
      "  Processing song 501/10992\n",
      "  Processing song 601/10992\n",
      "  Processing song 701/10992\n",
      "  Processing song 801/10992\n",
      "  Processing song 901/10992\n",
      "  Processing song 1001/10992\n",
      "  Processing song 1101/10992\n",
      "  Processing song 1201/10992\n",
      "  Processing song 1301/10992\n",
      "  Processing song 1401/10992\n",
      "  Processing song 1501/10992\n",
      "  Processing song 1601/10992\n",
      "  Processing song 1701/10992\n",
      "  Processing song 1801/10992\n",
      "  Processing song 1901/10992\n",
      "  Processing song 2001/10992\n",
      "  Processing song 2101/10992\n",
      "  Processing song 2201/10992\n",
      "  Processing song 2301/10992\n",
      "  Processing song 2401/10992\n",
      "  Processing song 2501/10992\n",
      "  Processing song 2601/10992\n",
      "  Processing song 2701/10992\n",
      "  Processing song 2801/10992\n",
      "  Processing song 2901/10992\n",
      "  Processing song 3001/10992\n",
      "  Processing song 3101/10992\n",
      "  Processing song 3201/10992\n",
      "  Processing song 3301/10992\n",
      "  Processing song 3401/10992\n",
      "  Processing song 3501/10992\n",
      "  Processing song 3601/10992\n",
      "  Processing song 3701/10992\n",
      "  Processing song 3801/10992\n",
      "  Processing song 3901/10992\n",
      "  Processing song 4001/10992\n",
      "  Processing song 4101/10992\n",
      "  Processing song 4201/10992\n",
      "  Processing song 4301/10992\n",
      "  Processing song 4401/10992\n",
      "  Processing song 4501/10992\n",
      "  Processing song 4601/10992\n",
      "  Processing song 4701/10992\n",
      "  Processing song 4801/10992\n",
      "  Processing song 4901/10992\n",
      "  Processing song 5001/10992\n",
      "  Processing song 5101/10992\n",
      "  Processing song 5201/10992\n",
      "  Processing song 5301/10992\n",
      "  Processing song 5401/10992\n",
      "  Processing song 5501/10992\n",
      "  Processing song 5601/10992\n",
      "  Processing song 5701/10992\n",
      "  Processing song 5801/10992\n",
      "  Processing song 5901/10992\n",
      "  Processing song 6001/10992\n",
      "  Processing song 6101/10992\n",
      "  Processing song 6201/10992\n",
      "  Processing song 6301/10992\n",
      "  Processing song 6401/10992\n",
      "  Processing song 6501/10992\n",
      "  Processing song 6601/10992\n",
      "  Processing song 6701/10992\n",
      "  Processing song 6801/10992\n",
      "  Processing song 6901/10992\n",
      "  Processing song 7001/10992\n",
      "  Processing song 7101/10992\n",
      "  Processing song 7201/10992\n",
      "  Processing song 7301/10992\n",
      "  Processing song 7401/10992\n",
      "  Processing song 7501/10992\n",
      "  Processing song 7601/10992\n",
      "  Processing song 7701/10992\n",
      "  Processing song 7801/10992\n",
      "  Processing song 7901/10992\n",
      "  Processing song 8001/10992\n",
      "  Processing song 8101/10992\n",
      "  Processing song 8201/10992\n",
      "  Processing song 8301/10992\n",
      "  Processing song 8401/10992\n",
      "  Processing song 8501/10992\n",
      "  Processing song 8601/10992\n",
      "  Processing song 8701/10992\n",
      "  Processing song 8801/10992\n",
      "  Processing song 8901/10992\n",
      "  Processing song 9001/10992\n",
      "  Processing song 9101/10992\n",
      "  Processing song 9201/10992\n",
      "  Processing song 9301/10992\n",
      "  Processing song 9401/10992\n",
      "  Processing song 9501/10992\n",
      "  Processing song 9601/10992\n",
      "  Processing song 9701/10992\n",
      "  Processing song 9801/10992\n",
      "  Processing song 9901/10992\n",
      "  Processing song 10001/10992\n",
      "  Processing song 10101/10992\n",
      "  Processing song 10201/10992\n",
      "  Processing song 10301/10992\n",
      "  Processing song 10401/10992\n",
      "  Processing song 10501/10992\n",
      "  Processing song 10601/10992\n",
      "  Processing song 10701/10992\n",
      "  Processing song 10801/10992\n",
      "  Processing song 10901/10992\n",
      "Converting 77 songs to one-hot encoding...\n",
      "  Processing song 1/77\n",
      "Converting 76 songs to one-hot encoding...\n",
      "  Processing song 1/76\n"
     ]
    }
   ],
   "source": [
    "train_one_hot = process_songs_to_one_hot(midi_data['train'])\n",
    "test_one_hot = process_songs_to_one_hot(midi_data['test'])\n",
    "valid_one_hot = process_songs_to_one_hot(midi_data['valid'])"
   ]
  },
  {
   "cell_type": "markdown",
   "id": "e7b689b4",
   "metadata": {
    "slideshow": {
     "slide_type": "subslide"
    }
   },
   "source": [
    "### Stage 2C: Sequence Splitting\n",
    "\n",
    "#### The Problem\n",
    "- Songs have different lengths (50-400+ time steps)\n",
    "- Neural networks need fixed input sizes\n",
    "- Solution: Cut songs into fixed-length pieces\n",
    "\n",
    "#### Sequence Length: 64 Time Steps\n",
    "- **Musical Meaning**: 64 × 0.25 beats = 16 beats = 4 measures\n",
    "- **Perfect Size**: Long enough for musical phrases, short enough for memory\n",
    "- **Standard Practice**: Common length in music AI research\n",
    "\n",
    "```python\n",
    "# Long song (200 time steps):\n",
    "Song: [measures 1-2-3-4-5-6-7-8-9-10-11-12-13...]\n",
    "\n",
    "# Split into sequences:\n",
    "Sequence 1: [measures 1-2-3-4]     # Time steps 0-63\n",
    "Sequence 2: [measures 5-6-7-8]     # Time steps 64-127  \n",
    "Sequence 3: [measures 9-10-11-12]  # Time steps 128-191\n",
    "```"
   ]
  },
  {
   "cell_type": "code",
   "execution_count": 12,
   "id": "9f7e4dd5",
   "metadata": {
    "slideshow": {
     "slide_type": "subslide"
    }
   },
   "outputs": [
    {
     "name": "stdout",
     "output_type": "stream",
     "text": [
      "Splitting soprano into sequences...\n",
      "  Created 32832 sequences of length 64\n",
      "Splitting alto into sequences...\n",
      "  Created 32832 sequences of length 64\n",
      "Splitting tenor into sequences...\n",
      "  Created 32832 sequences of length 64\n",
      "Splitting bass into sequences...\n",
      "  Created 32832 sequences of length 64\n",
      "Splitting soprano into sequences...\n",
      "  Created 271 sequences of length 64\n",
      "Splitting alto into sequences...\n",
      "  Created 271 sequences of length 64\n",
      "Splitting tenor into sequences...\n",
      "  Created 271 sequences of length 64\n",
      "Splitting bass into sequences...\n",
      "  Created 271 sequences of length 64\n",
      "Splitting soprano into sequences...\n",
      "  Created 260 sequences of length 64\n",
      "Splitting alto into sequences...\n",
      "  Created 260 sequences of length 64\n",
      "Splitting tenor into sequences...\n",
      "  Created 260 sequences of length 64\n",
      "Splitting bass into sequences...\n",
      "  Created 260 sequences of length 64\n",
      "Train sequences: 32832\n",
      "Test sequences: 271\n",
      "Valid sequences: 260\n"
     ]
    }
   ],
   "source": [
    "train_sequences = create_sequence_dataset(train_one_hot)\n",
    "test_sequences = create_sequence_dataset(test_one_hot)\n",
    "valid_sequences = create_sequence_dataset(valid_one_hot)\n",
    "\n",
    "print(f\"Train sequences: {len(train_sequences['soprano'])}\")\n",
    "print(f\"Test sequences: {len(test_sequences['soprano'])}\")\n",
    "print(f\"Valid sequences: {len(valid_sequences['soprano'])}\")\n"
   ]
  },
  {
   "cell_type": "markdown",
   "id": "fe73c1a8",
   "metadata": {
    "slideshow": {
     "slide_type": "subslide"
    }
   },
   "source": [
    "### Stage 2D: Dataset Creation\n",
    "\n",
    "#### Input vs. Output Format\n",
    "- **Input (X)**: Soprano melody as one-hot vectors `[batch_size, 64, 33]`\n",
    "- **Output (Y)**: Alto/Tenor/Bass as class indices `[batch_size, 64]`\n",
    "\n",
    "#### Why Different Formats?\n",
    "- **Input**: One-hot gives network rich information about melody\n",
    "- **Output**: Class indices work better with loss functions for classification\n",
    "\n"
   ]
  },
  {
   "cell_type": "markdown",
   "id": "5ed980e8",
   "metadata": {
    "slideshow": {
     "slide_type": "subslide"
    }
   },
   "source": [
    "\n",
    "### Stage 2E: DataLoader Creation\n",
    "\n",
    "#### Batching for Training\n",
    "Instead of processing one sequence at a time, we group them:\n",
    "\n",
    "```python\n",
    "# Batch of 4 sequences:\n",
    "Batch = [\n",
    "    Sequence_1,  # 64 time steps of 4-part harmony\n",
    "    Sequence_2,  # 64 time steps of 4-part harmony  \n",
    "    Sequence_3,  # 64 time steps of 4-part harmony\n",
    "    Sequence_4   # 64 time steps of 4-part harmony\n",
    "]\n",
    "```\n",
    "\n",
    "**Final Tensor Shapes**:\n",
    "- **Soprano Input**: `[4, 64, 33]` - 4 sequences, 64 time steps, 33 possible notes\n",
    "- **Alto Target**: `[4, 64]` - 4 sequences, 64 time steps, 1 note index per step\n",
    "- **Tenor Target**: `[4, 64]` - Same format\n",
    "- **Bass Target**: `[4, 64]` - Same format"
   ]
  },
  {
   "cell_type": "code",
   "execution_count": 13,
   "id": "c0f71e5a",
   "metadata": {
    "slideshow": {
     "slide_type": "subslide"
    }
   },
   "outputs": [
    {
     "name": "stdout",
     "output_type": "stream",
     "text": [
      "Dataset created with 32832 sequences\n",
      "  Input shape: torch.Size([32832, 64, 33])\n",
      "  Target shapes: torch.Size([32832, 64]), torch.Size([32832, 64]), torch.Size([32832, 64])\n",
      "Dataset created with 271 sequences\n",
      "  Input shape: torch.Size([271, 64, 33])\n",
      "  Target shapes: torch.Size([271, 64]), torch.Size([271, 64]), torch.Size([271, 64])\n",
      "Dataset created with 260 sequences\n",
      "  Input shape: torch.Size([260, 64, 33])\n",
      "  Target shapes: torch.Size([260, 64]), torch.Size([260, 64]), torch.Size([260, 64])\n"
     ]
    }
   ],
   "source": [
    "train_dataset = ChoralesDataset(train_sequences)\n",
    "test_dataset = ChoralesDataset(test_sequences)\n",
    "valid_dataset = ChoralesDataset(valid_sequences)"
   ]
  },
  {
   "cell_type": "code",
   "execution_count": 14,
   "id": "e3648d95",
   "metadata": {
    "slideshow": {
     "slide_type": "subslide"
    }
   },
   "outputs": [
    {
     "name": "stdout",
     "output_type": "stream",
     "text": [
      "DataLoaders created:\n",
      "  Train: 8208 batches of size 4\n",
      "  Test: 67 batches of size 4\n",
      "  Valid: 65 batches of size 4\n"
     ]
    }
   ],
   "source": [
    "train_loader, test_loader, valid_loader = create_data_loaders(\n",
    "    train_dataset, test_dataset, valid_dataset\n",
    ")"
   ]
  },
  {
   "cell_type": "code",
   "execution_count": 15,
   "id": "2f4224d5",
   "metadata": {
    "slideshow": {
     "slide_type": "subslide"
    }
   },
   "outputs": [
    {
     "data": {
      "image/png": "[encoded data removed]",
      "text/plain": [
       "<Figure size 1500x1000 with 4 Axes>"
      ]
     },
     "metadata": {},
     "output_type": "display_data"
    },
    {
     "name": "stdout",
     "output_type": "stream",
     "text": [
      "Sample sequence statistics:\n",
      "  Soprano range: 68 - 80\n",
      "  Unique notes: 8\n"
     ]
    }
   ],
   "source": [
    "visualize_training_data(train_loader) # example of a input (blue being input and red being target sequence)\n"
   ]
  },
  {
   "cell_type": "code",
   "execution_count": 16,
   "id": "f93a7f6f",
   "metadata": {
    "slideshow": {
     "slide_type": "subslide"
    }
   },
   "outputs": [
    {
     "name": "stdout",
     "output_type": "stream",
     "text": [
      "Processed data saved to './data/processed_training_data.pt'\n"
     ]
    }
   ],
   "source": [
    "def save_processed_data():\n",
    "    \"\"\"Save the processed datasets for later use\"\"\"\n",
    "    \n",
    "    processed_data = {\n",
    "        'train_dataset': train_dataset,\n",
    "        'test_dataset': test_dataset, \n",
    "        'valid_dataset': valid_dataset,\n",
    "        'voice_ranges': VOICE_RANGES,\n",
    "        'config': {\n",
    "            'sequence_length': SEQUENCE_LENGTH,\n",
    "            'batch_size': BATCH_SIZE,\n",
    "            'silence_index': SILENCE_INDEX\n",
    "        }\n",
    "    }\n",
    "    \n",
    "    torch.save(processed_data, './data/processed_training_data.pt')\n",
    "    print(\"Processed data saved to './data/processed_training_data.pt'\")\n",
    "\n",
    "save_processed_data()"
   ]
  },
  {
   "cell_type": "markdown",
   "id": "1552dca3",
   "metadata": {
    "slideshow": {
     "slide_type": "subslide"
    }
   },
   "source": [
    "## Network Architecture\n",
    "\n",
    "### **Network Type**: Feedforward (Dense/Linear layers only)\n",
    "### **Task**: Multi-output classification (3 separate voice predictions)\n",
    "### **Input**: Complete soprano melody sequence\n",
    "### **Output**: Complete harmony sequences for 3 voices\n",
    "\n"
   ]
  },
  {
   "cell_type": "markdown",
   "id": "d19f0a51",
   "metadata": {
    "slideshow": {
     "slide_type": "subslide"
    }
   },
   "source": [
    "\n",
    "## Input/Output Specifications\n",
    "\n",
    "### **Input Dimensions**\n",
    "```python\n",
    "# Soprano melody input\n",
    "Input Shape: [batch_size, sequence_length, encoding_size]\n",
    "           = [4, 64, 33]\n",
    "           \n",
    "# After flattening for network:\n",
    "Flattened:  [batch_size, sequence_length × encoding_size]  \n",
    "          = [4, 2112]\n",
    "\n",
    "# Where:\n",
    "# - batch_size = 4 (training batch size)\n",
    "# - sequence_length = 64 (time steps)\n",
    "# - encoding_size = 33 (32 MIDI notes + 1 silence)\n",
    "```\n",
    "\n",
    "### **Output Dimensions**\n",
    "```python\n",
    "# Three separate voice outputs\n",
    "Alto Output:  [batch_size, encoding_size, sequence_length] = [4, 33, 64]\n",
    "Tenor Output: [batch_size, encoding_size, sequence_length] = [4, 33, 64]  \n",
    "Bass Output:  [batch_size, encoding_size, sequence_length] = [4, 40, 64]\n",
    "\n",
    "# Note: Bass has larger encoding (40) due to wider MIDI range\n",
    "```\n"
   ]
  },
  {
   "cell_type": "markdown",
   "id": "819787f2",
   "metadata": {
    "slideshow": {
     "slide_type": "subslide"
    }
   },
   "source": [
    "## Layer-by-Layer Architecture\n",
    "\n",
    "```\n",
    "Input: Soprano Melody\n",
    "       [4, 64, 33] → Flatten → [4, 2112]\n",
    "              ↓\n",
    "┌─────────────────────────────────────────┐\n",
    "│          INPUT LAYER                    │\n",
    "│  Linear(2112 → 200)                     │\n",
    "│  Learnable Parameters: 422,600          │\n",
    "└─────────────────────────────────────────┘\n",
    "              ↓\n",
    "┌─────────────────────────────────────────┐\n",
    "│         HIDDEN LAYER 1                  │\n",
    "│  Linear(200 → 200)                      │\n",
    "│  ReLU Activation                        │\n",
    "│  Dropout(p=0.5)                         │\n",
    "│  Learnable Parameters: 40,200           │\n",
    "└─────────────────────────────────────────┘\n",
    "              ↓\n",
    "┌─────────────────────────────────────────┐\n",
    "│         HIDDEN LAYER 2                  │\n",
    "│  Linear(200 → 200)                      │\n",
    "│  ReLU Activation                        │\n",
    "│  Dropout(p=0.5)                         │\n",
    "│  Learnable Parameters: 40,200           │\n",
    "└─────────────────────────────────────────┘\n",
    "              ↓\n",
    "         ┌─────────┐\n",
    "         │ SPLIT   │\n",
    "         └─────────┘\n",
    "    ┌────────┴────────┬────────┐\n",
    "    ↓                 ↓        ↓\n",
    "┌─────────┐    ┌──────────┐   ┌─────────┐\n",
    "│  ALTO   │    │  TENOR   │   │  BASS   │\n",
    "│ BRANCH  │    │  BRANCH  │   │ BRANCH  │\n",
    "└─────────┘    └──────────┘   └─────────┘\n",
    "```"
   ]
  },
  {
   "cell_type": "markdown",
   "id": "a65b1d5e",
   "metadata": {
    "slideshow": {
     "slide_type": "subslide"
    }
   },
   "source": [
    "## Voice-Specific Output Branches\n",
    "\n",
    "### **Alto Branch**\n",
    "```python\n",
    "# Alto harmonizer\n",
    "Linear(200 → 2112)              # 200 → 64×33\n",
    "ReLU Activation\n",
    "Reshape(2112 → [33, 64])        # [encoding_size, sequence_length]  \n",
    "Log Softmax(dim=1)              # Probability distribution over notes\n",
    "\n",
    "# Output: [batch_size, 33, 64] log probabilities\n",
    "```\n",
    "\n",
    "### **Tenor Branch**  \n",
    "```python\n",
    "# Tenor harmonizer  \n",
    "Linear(200 → 2112)              # 200 → 64×33\n",
    "ReLU Activation\n",
    "Reshape(2112 → [33, 64])        # [encoding_size, sequence_length]\n",
    "Log Softmax(dim=1)              # Probability distribution over notes\n",
    "\n",
    "# Output: [batch_size, 33, 64] log probabilities\n",
    "```\n",
    "\n",
    "### **Bass Branch**\n",
    "```python\n",
    "# Bass harmonizer\n",
    "Linear(200 → 2560)              # 200 → 64×40 (wider range!)\n",
    "ReLU Activation  \n",
    "Reshape(2560 → [40, 64])        # [encoding_size, sequence_length]\n",
    "Log Softmax(dim=1)              # Probability distribution over notes\n",
    "\n",
    "# Output: [batch_size, 40, 64] log probabilities\n",
    "```"
   ]
  },
  {
   "cell_type": "markdown",
   "id": "6d3c5d26",
   "metadata": {
    "slideshow": {
     "slide_type": "subslide"
    }
   },
   "source": [
    "## Key Design Decisions\n",
    "\n",
    "### **1. Feedforward Architecture**\n",
    "- **Why**: Simpler than RNNs, focuses on harmonic relationships\n",
    "- **Trade-off**: Less temporal modeling, but faster training\n",
    "- **Justification**: Bach chorales have strong harmonic patterns that feedforward can capture\n",
    "\n",
    "### **2. Sequence-to-Sequence Processing**\n",
    "- **Input**: Entire 64-note soprano sequence at once\n",
    "- **Output**: Entire 64-note harmony sequences for 3 voices\n",
    "- **Benefit**: Network sees full musical context, can plan ahead\n"
   ]
  },
  {
   "cell_type": "markdown",
   "id": "b182fbfd",
   "metadata": {
    "slideshow": {
     "slide_type": "subslide"
    }
   },
   "source": [
    "\n",
    "### **3. Separate Output Branches**\n",
    "- **Why**: Each voice has different characteristics and ranges\n",
    "- **Implementation**: Dedicated linear layer for each voice\n",
    "- **Advantage**: Voice-specific learning, different output dimensions\n",
    "\n",
    "### **4. Log Softmax Output**\n",
    "- **Purpose**: Converts raw logits to log probabilities\n",
    "- **Compatibility**: Works with `nn.NLLLoss()` for training\n",
    "- **Interpretation**: Each time step gets probability distribution over possible notes\n"
   ]
  },
  {
   "cell_type": "code",
   "execution_count": null,
   "id": "b82c2f7f",
   "metadata": {
    "slideshow": {
     "slide_type": "subslide"
    }
   },
   "outputs": [
    {
     "name": "stdout",
     "output_type": "stream",
     "text": [
      "🔧 Training device: cpu\n",
      "\n",
      "📋 Model Architecture Summary:\n",
      "   Parameters: 1,866,584\n",
      "   Trainable parameters: 1,866,584\n",
      "🚀 Harmonization trainer initialized:\n",
      "  Device: cpu\n",
      "  Learning rate: 0.001\n",
      "  Optimization: Adam with weight decay\n",
      "  Scheduler: ReduceLROnPlateau\n",
      "\n",
      "🚀 Starting harmonization training...\n",
      "\n",
      "🎼 Starting Bach Harmonization Training\n",
      "   Epochs: 10\n",
      "   Training batches: 8208\n",
      "   Validation batches: 65\n",
      "============================================================\n",
      "\n",
      "🎵 Training Epoch 1\n",
      "  Batch   0/8208 | Loss: 10.6800 | LR: 0.001000\n",
      "  Batch 1000/8208 | Loss: 10.0403 | LR: 0.001000\n",
      "  Batch 2000/8208 | Loss: 9.8325 | LR: 0.001000\n",
      "  Batch 3000/8208 | Loss: 9.7851 | LR: 0.001000\n",
      "  Batch 4000/8208 | Loss: 9.5539 | LR: 0.001000\n",
      "  Batch 5000/8208 | Loss: 9.2696 | LR: 0.001000\n",
      "  Batch 6000/8208 | Loss: 9.5991 | LR: 0.001000\n",
      "  Batch 7000/8208 | Loss: 9.6487 | LR: 0.001000\n",
      "  Batch 8000/8208 | Loss: 9.3428 | LR: 0.001000\n",
      "  ✅ Epoch 1 Training Complete:\n",
      "     Average Loss: 9.6113\n",
      "     Overall Accuracy: 0.130\n",
      "     Voice Accuracies: Alto=0.146, Tenor=0.140, Bass=0.106\n",
      "\n",
      "🔍 Validating Epoch 1\n",
      "  ✅ Epoch 1 Validation Complete:\n",
      "     Validation Loss: 8.7781\n",
      "     Validation Accuracy: 0.196\n",
      "     Voice Accuracies: Alto=0.233, Tenor=0.198, Bass=0.157\n",
      "  💾 New best model saved! (Val Loss: 8.7781)\n",
      "  ⏱️  Epoch 1 completed in 46.5s\n",
      "--------------------------------------------------\n",
      "\n",
      "🎵 Training Epoch 2\n",
      "  Batch   0/8208 | Loss: 9.3343 | LR: 0.001000\n",
      "  Batch 1000/8208 | Loss: 9.6195 | LR: 0.001000\n",
      "  Batch 2000/8208 | Loss: 9.4820 | LR: 0.001000\n",
      "  Batch 3000/8208 | Loss: 8.5709 | LR: 0.001000\n",
      "  Batch 4000/8208 | Loss: 9.1001 | LR: 0.001000\n",
      "  Batch 5000/8208 | Loss: 9.2119 | LR: 0.001000\n",
      "  Batch 6000/8208 | Loss: 8.9025 | LR: 0.001000\n",
      "  Batch 7000/8208 | Loss: 8.7017 | LR: 0.001000\n",
      "  Batch 8000/8208 | Loss: 9.3493 | LR: 0.001000\n",
      "  ✅ Epoch 2 Training Complete:\n",
      "     Average Loss: 9.1313\n",
      "     Overall Accuracy: 0.176\n",
      "     Voice Accuracies: Alto=0.197, Tenor=0.193, Bass=0.138\n",
      "\n",
      "🔍 Validating Epoch 2\n",
      "  ✅ Epoch 2 Validation Complete:\n",
      "     Validation Loss: 8.5189\n",
      "     Validation Accuracy: 0.208\n",
      "     Voice Accuracies: Alto=0.244, Tenor=0.209, Bass=0.170\n",
      "  💾 New best model saved! (Val Loss: 8.5189)\n",
      "  ⏱️  Epoch 2 completed in 59.9s\n",
      "--------------------------------------------------\n",
      "\n",
      "🎵 Training Epoch 3\n",
      "  Batch   0/8208 | Loss: 8.4844 | LR: 0.001000\n",
      "  Batch 1000/8208 | Loss: 8.9591 | LR: 0.001000\n",
      "  Batch 2000/8208 | Loss: 8.6302 | LR: 0.001000\n",
      "  Batch 3000/8208 | Loss: 9.2709 | LR: 0.001000\n",
      "  Batch 4000/8208 | Loss: 8.9519 | LR: 0.001000\n",
      "  Batch 5000/8208 | Loss: 9.3594 | LR: 0.001000\n",
      "  Batch 6000/8208 | Loss: 8.3417 | LR: 0.001000\n",
      "  Batch 7000/8208 | Loss: 9.6104 | LR: 0.001000\n",
      "  Batch 8000/8208 | Loss: 8.7316 | LR: 0.001000\n",
      "  ✅ Epoch 3 Training Complete:\n",
      "     Average Loss: 8.9169\n",
      "     Overall Accuracy: 0.188\n",
      "     Voice Accuracies: Alto=0.207, Tenor=0.197, Bass=0.161\n",
      "\n",
      "🔍 Validating Epoch 3\n",
      "  ✅ Epoch 3 Validation Complete:\n",
      "     Validation Loss: 8.3682\n",
      "     Validation Accuracy: 0.205\n",
      "     Voice Accuracies: Alto=0.247, Tenor=0.205, Bass=0.164\n",
      "  💾 New best model saved! (Val Loss: 8.3682)\n",
      "  ⏱️  Epoch 3 completed in 64.8s\n",
      "--------------------------------------------------\n",
      "\n",
      "🎵 Training Epoch 4\n",
      "  Batch   0/8208 | Loss: 8.8211 | LR: 0.001000\n",
      "  Batch 1000/8208 | Loss: 8.7250 | LR: 0.001000\n",
      "  Batch 2000/8208 | Loss: 9.3102 | LR: 0.001000\n",
      "  Batch 3000/8208 | Loss: 8.7152 | LR: 0.001000\n",
      "  Batch 4000/8208 | Loss: 8.3685 | LR: 0.001000\n",
      "  Batch 5000/8208 | Loss: 7.8767 | LR: 0.001000\n",
      "  Batch 6000/8208 | Loss: 8.4363 | LR: 0.001000\n",
      "  Batch 7000/8208 | Loss: 8.3023 | LR: 0.001000\n",
      "  Batch 8000/8208 | Loss: 8.8123 | LR: 0.001000\n",
      "  ✅ Epoch 4 Training Complete:\n",
      "     Average Loss: 8.7641\n",
      "     Overall Accuracy: 0.200\n",
      "     Voice Accuracies: Alto=0.258, Tenor=0.184, Bass=0.159\n",
      "\n",
      "🔍 Validating Epoch 4\n",
      "  ✅ Epoch 4 Validation Complete:\n",
      "     Validation Loss: 8.1776\n",
      "     Validation Accuracy: 0.204\n",
      "     Voice Accuracies: Alto=0.247, Tenor=0.199, Bass=0.165\n",
      "  💾 New best model saved! (Val Loss: 8.1776)\n",
      "  ⏱️  Epoch 4 completed in 56.9s\n",
      "--------------------------------------------------\n",
      "\n",
      "🎵 Training Epoch 5\n",
      "  Batch   0/8208 | Loss: 8.2032 | LR: 0.001000\n",
      "  Batch 1000/8208 | Loss: 9.1450 | LR: 0.001000\n",
      "  Batch 2000/8208 | Loss: 8.3579 | LR: 0.001000\n",
      "  Batch 3000/8208 | Loss: 9.0702 | LR: 0.001000\n",
      "  Batch 4000/8208 | Loss: 8.5355 | LR: 0.001000\n",
      "  Batch 5000/8208 | Loss: 8.7119 | LR: 0.001000\n",
      "  Batch 6000/8208 | Loss: 8.5969 | LR: 0.001000\n",
      "  Batch 7000/8208 | Loss: 8.0462 | LR: 0.001000\n",
      "  Batch 8000/8208 | Loss: 8.6444 | LR: 0.001000\n",
      "  ✅ Epoch 5 Training Complete:\n",
      "     Average Loss: 8.5992\n",
      "     Overall Accuracy: 0.183\n",
      "     Voice Accuracies: Alto=0.215, Tenor=0.190, Bass=0.143\n",
      "\n",
      "🔍 Validating Epoch 5\n",
      "  ✅ Epoch 5 Validation Complete:\n",
      "     Validation Loss: 8.0395\n",
      "     Validation Accuracy: 0.206\n",
      "     Voice Accuracies: Alto=0.243, Tenor=0.205, Bass=0.170\n",
      "  💾 New best model saved! (Val Loss: 8.0395)\n",
      "  ⏱️  Epoch 5 completed in 67.8s\n",
      "--------------------------------------------------\n",
      "\n",
      "🎵 Training Epoch 6\n",
      "  Batch   0/8208 | Loss: 8.4026 | LR: 0.001000\n",
      "  Batch 1000/8208 | Loss: 7.8829 | LR: 0.001000\n",
      "  Batch 2000/8208 | Loss: 8.7915 | LR: 0.001000\n",
      "  Batch 3000/8208 | Loss: 8.7228 | LR: 0.001000\n",
      "  Batch 4000/8208 | Loss: 7.7791 | LR: 0.001000\n",
      "  Batch 5000/8208 | Loss: 8.8117 | LR: 0.001000\n",
      "  Batch 6000/8208 | Loss: 8.2800 | LR: 0.001000\n",
      "  Batch 7000/8208 | Loss: 7.5304 | LR: 0.001000\n",
      "  Batch 8000/8208 | Loss: 8.3595 | LR: 0.001000\n",
      "  ✅ Epoch 6 Training Complete:\n",
      "     Average Loss: 8.4411\n",
      "     Overall Accuracy: 0.210\n",
      "     Voice Accuracies: Alto=0.242, Tenor=0.216, Bass=0.172\n",
      "\n",
      "🔍 Validating Epoch 6\n",
      "  ✅ Epoch 6 Validation Complete:\n",
      "     Validation Loss: 7.9004\n",
      "     Validation Accuracy: 0.203\n",
      "     Voice Accuracies: Alto=0.245, Tenor=0.197, Bass=0.167\n",
      "  💾 New best model saved! (Val Loss: 7.9004)\n",
      "  ⏱️  Epoch 6 completed in 66.7s\n",
      "--------------------------------------------------\n",
      "\n",
      "🎵 Training Epoch 7\n",
      "  Batch   0/8208 | Loss: 8.6561 | LR: 0.001000\n",
      "  Batch 1000/8208 | Loss: 8.6894 | LR: 0.001000\n",
      "  Batch 2000/8208 | Loss: 9.2553 | LR: 0.001000\n",
      "  Batch 3000/8208 | Loss: 7.9103 | LR: 0.001000\n",
      "  Batch 4000/8208 | Loss: 8.1062 | LR: 0.001000\n",
      "  Batch 5000/8208 | Loss: 7.8556 | LR: 0.001000\n",
      "  Batch 6000/8208 | Loss: 8.6649 | LR: 0.001000\n",
      "  Batch 7000/8208 | Loss: 8.0158 | LR: 0.001000\n",
      "  Batch 8000/8208 | Loss: 8.2650 | LR: 0.001000\n",
      "  ✅ Epoch 7 Training Complete:\n",
      "     Average Loss: 8.3221\n",
      "     Overall Accuracy: 0.186\n",
      "     Voice Accuracies: Alto=0.228, Tenor=0.190, Bass=0.140\n",
      "\n",
      "🔍 Validating Epoch 7\n",
      "  ✅ Epoch 7 Validation Complete:\n",
      "     Validation Loss: 7.8181\n",
      "     Validation Accuracy: 0.205\n",
      "     Voice Accuracies: Alto=0.246, Tenor=0.202, Bass=0.168\n",
      "  💾 New best model saved! (Val Loss: 7.8181)\n",
      "  ⏱️  Epoch 7 completed in 69.8s\n",
      "--------------------------------------------------\n",
      "\n",
      "🎵 Training Epoch 8\n",
      "  Batch   0/8208 | Loss: 8.7848 | LR: 0.001000\n",
      "  Batch 1000/8208 | Loss: 8.1655 | LR: 0.001000\n",
      "  Batch 2000/8208 | Loss: 8.1393 | LR: 0.001000\n",
      "  Batch 3000/8208 | Loss: 8.0304 | LR: 0.001000\n",
      "  Batch 4000/8208 | Loss: 7.5857 | LR: 0.001000\n",
      "  Batch 5000/8208 | Loss: 8.9299 | LR: 0.001000\n",
      "  Batch 6000/8208 | Loss: 8.3267 | LR: 0.001000\n",
      "  Batch 7000/8208 | Loss: 8.1484 | LR: 0.001000\n",
      "  Batch 8000/8208 | Loss: 8.5311 | LR: 0.001000\n",
      "  ✅ Epoch 8 Training Complete:\n",
      "     Average Loss: 8.2101\n",
      "     Overall Accuracy: 0.197\n",
      "     Voice Accuracies: Alto=0.238, Tenor=0.184, Bass=0.171\n",
      "\n",
      "🔍 Validating Epoch 8\n",
      "  ✅ Epoch 8 Validation Complete:\n",
      "     Validation Loss: 7.6159\n",
      "     Validation Accuracy: 0.217\n",
      "     Voice Accuracies: Alto=0.257, Tenor=0.216, Bass=0.179\n",
      "  💾 New best model saved! (Val Loss: 7.6159)\n",
      "  ⏱️  Epoch 8 completed in 62.9s\n",
      "--------------------------------------------------\n",
      "\n",
      "🎵 Training Epoch 9\n",
      "  Batch   0/8208 | Loss: 7.6668 | LR: 0.001000\n",
      "  Batch 1000/8208 | Loss: 7.6001 | LR: 0.001000\n",
      "  Batch 2000/8208 | Loss: 7.8242 | LR: 0.001000\n",
      "  Batch 3000/8208 | Loss: 8.6381 | LR: 0.001000\n",
      "  Batch 4000/8208 | Loss: 7.9204 | LR: 0.001000\n",
      "  Batch 5000/8208 | Loss: 7.5590 | LR: 0.001000\n",
      "  Batch 6000/8208 | Loss: 8.7321 | LR: 0.001000\n",
      "  Batch 7000/8208 | Loss: 8.4696 | LR: 0.001000\n",
      "  Batch 8000/8208 | Loss: 8.0081 | LR: 0.001000\n",
      "  ✅ Epoch 9 Training Complete:\n",
      "     Average Loss: 8.1015\n",
      "     Overall Accuracy: 0.195\n",
      "     Voice Accuracies: Alto=0.213, Tenor=0.194, Bass=0.177\n",
      "\n",
      "🔍 Validating Epoch 9\n",
      "  ✅ Epoch 9 Validation Complete:\n",
      "     Validation Loss: 7.5666\n",
      "     Validation Accuracy: 0.210\n",
      "     Voice Accuracies: Alto=0.252, Tenor=0.197, Bass=0.179\n",
      "  💾 New best model saved! (Val Loss: 7.5666)\n",
      "  ⏱️  Epoch 9 completed in 84.0s\n",
      "--------------------------------------------------\n",
      "\n",
      "🎵 Training Epoch 10\n",
      "  Batch   0/8208 | Loss: 8.4071 | LR: 0.001000\n",
      "  Batch 1000/8208 | Loss: 7.5085 | LR: 0.001000\n",
      "  Batch 2000/8208 | Loss: 8.3327 | LR: 0.001000\n",
      "  Batch 3000/8208 | Loss: 8.3230 | LR: 0.001000\n",
      "  Batch 4000/8208 | Loss: 7.7372 | LR: 0.001000\n",
      "  Batch 5000/8208 | Loss: 8.6633 | LR: 0.001000\n",
      "  Batch 6000/8208 | Loss: 8.5626 | LR: 0.001000\n",
      "  Batch 7000/8208 | Loss: 7.8505 | LR: 0.001000\n",
      "  Batch 8000/8208 | Loss: 7.4751 | LR: 0.001000\n",
      "  ✅ Epoch 10 Training Complete:\n",
      "     Average Loss: 8.0021\n",
      "     Overall Accuracy: 0.192\n",
      "     Voice Accuracies: Alto=0.216, Tenor=0.181, Bass=0.178\n",
      "\n",
      "🔍 Validating Epoch 10\n",
      "  ✅ Epoch 10 Validation Complete:\n",
      "     Validation Loss: 7.5215\n",
      "     Validation Accuracy: 0.208\n",
      "     Voice Accuracies: Alto=0.253, Tenor=0.203, Bass=0.169\n",
      "  💾 New best model saved! (Val Loss: 7.5215)\n",
      "  ⏱️  Epoch 10 completed in 76.1s\n",
      "--------------------------------------------------\n",
      "\n",
      "🎉 Training completed in 10.9 minutes!\n",
      "   Best validation loss: 7.5215\n",
      "\n",
      "🎯 Final Model Evaluation\n",
      "📊 Final Test Results:\n",
      "   Test Loss: 7.4210\n",
      "   Test Accuracy: 0.223\n",
      "   Voice Accuracies:\n",
      "     Alto: 0.266\n",
      "     Tenor: 0.215\n",
      "     Bass: 0.188\n"
     ]
    },
    {
     "data": {
      "image/png": "[encoded data removed]",
      "text/plain": [
       "<Figure size 1500x1000 with 5 Axes>"
      ]
     },
     "metadata": {},
     "output_type": "display_data"
    },
    {
     "name": "stdout",
     "output_type": "stream",
     "text": [
      "\n",
      "🎼 Bach Chorale Harmonization Training Complete!\n",
      "💾 Best model saved to: ./models/best_harmonization_model.pt\n"
     ]
    }
   ],
   "source": [
    "device = torch.device(\"cuda\" if torch.cuda.is_available() else \"cpu\")\n",
    "print(f\"🔧 Training device: {device}\")\n",
    "\n",
    "input_dimensions = SEQUENCE_LENGTH * VOICE_RANGES['soprano'].range_and_silence_length()\n",
    "harmonization_model = MultiVoiceHarmonizationNetwork(\n",
    "    input_dimensions=input_dimensions,\n",
    "    hidden_layer_size=256,\n",
    "    dropout_rate=0.4\n",
    ")\n",
    "\n",
    "print(f\"\\n📋 Model Architecture Summary:\")\n",
    "print(f\"   Parameters: {sum(p.numel() for p in harmonization_model.parameters()):,}\")\n",
    "print(f\"   Trainable parameters: {sum(p.numel() for p in harmonization_model.parameters() if p.requires_grad):,}\")\n",
    "\n",
    "trainer = HarmonizationTrainer(\n",
    "    model=harmonization_model,\n",
    "    train_loader=train_loader,\n",
    "    validation_loader=valid_loader,\n",
    "    test_loader=test_loader,\n",
    "    learning_rate=0.001,\n",
    "    device=device\n",
    ")\n",
    "\n",
    "print(f\"\\n🚀 Starting harmonization training...\")\n",
    "trainer.execute_training(num_epochs=10) \n",
    "trainer.plot_training_progress()\n",
    "\n",
    "print(f\"\\n🎼 Bach Chorale Harmonization Training Complete!\")\n",
    "print(f\"💾 Best model saved to: ./models/best_harmonization_model.pt\")"
   ]
  },
  {
   "cell_type": "markdown",
   "id": "896e5e66",
   "metadata": {
    "slideshow": {
     "slide_type": "subslide"
    }
   },
   "source": [
    "## Musical Interpretation\n",
    "\n",
    "### **What the Network Learns:**\n",
    "1. **Harmonic Progressions**: Which chords typically follow others\n",
    "2. **Voice Leading**: How individual voices move smoothly between notes\n",
    "3. **Bach's Style**: Specific harmonic preferences and compositional patterns\n",
    "4. **Counterpoint Rules**: Avoiding parallel fifths, proper voice spacing\n",
    "\n",
    "### **How It Harmonizes:**\n",
    "1. **Sees entire melody**: Network processes full 64-note soprano sequence\n",
    "2. **Extracts features**: Hidden layers learn musical patterns and relationships\n",
    "3. **Generates harmonies**: Each output branch predicts one voice part\n",
    "4. **Maintains context**: Each predicted note considers the entire musical phrase\n",
    "\n",
    "### **Output Interpretation:**\n",
    "```python\n",
    "# For each time step and voice:\n",
    "# Network outputs probability distribution over all possible notes\n",
    "\n",
    "# Example alto output at time step 0:\n",
    "alto_probs_t0 = [0.01, 0.05, 0.02, 0.85, 0.03, 0.02, 0.02, ...]\n",
    "#                  ↑     ↑     ↑     ↑     ↑\n",
    "#               silence note1 note2 note3 note4\n",
    "#                              (most likely)\n",
    "\n",
    "# Prediction: argmax = note3 (index 3)\n"
   ]
  },
  {
   "cell_type": "code",
   "execution_count": 30,
   "id": "ef494bbd",
   "metadata": {
    "slideshow": {
     "slide_type": "subslide"
    }
   },
   "outputs": [
    {
     "name": "stdout",
     "output_type": "stream",
     "text": [
      "🔧 Using device: cpu\n",
      "✅ Model loaded successfully from ./models/best_harmonization_model.pt\n",
      "📊 Model has 1,866,584 parameters\n",
      "🎵 Starting MIDI generation...\n",
      "Generating 5 MIDI files...\n",
      "\n",
      "Generating song 1/5\n",
      "Created track for Soprano with 15 notes\n",
      "Created track for Alto with 6 notes\n",
      "Created track for Tenor with 16 notes\n",
      "Created track for Bass with 24 notes\n",
      "MIDI file saved: generated_midi/harmony_song_001.mid\n",
      "Created track for Soprano with 15 notes\n",
      "MIDI file saved: generated_midi/melody_song_001.mid\n",
      "\n",
      "Generating song 2/5\n",
      "Created track for Soprano with 19 notes\n",
      "Created track for Alto with 17 notes\n",
      "Created track for Tenor with 15 notes\n",
      "Created track for Bass with 27 notes\n",
      "MIDI file saved: generated_midi/harmony_song_002.mid\n",
      "Created track for Soprano with 19 notes\n",
      "MIDI file saved: generated_midi/melody_song_002.mid\n",
      "\n",
      "Generating song 3/5\n",
      "Created track for Soprano with 15 notes\n",
      "Created track for Alto with 13 notes\n",
      "Created track for Tenor with 21 notes\n",
      "Created track for Bass with 17 notes\n",
      "MIDI file saved: generated_midi/harmony_song_003.mid\n",
      "Created track for Soprano with 15 notes\n",
      "MIDI file saved: generated_midi/melody_song_003.mid\n",
      "\n",
      "Generating song 4/5\n",
      "Created track for Soprano with 16 notes\n",
      "Created track for Alto with 16 notes\n",
      "Created track for Tenor with 10 notes\n",
      "Created track for Bass with 22 notes\n",
      "MIDI file saved: generated_midi/harmony_song_004.mid\n",
      "Created track for Soprano with 16 notes\n",
      "MIDI file saved: generated_midi/melody_song_004.mid\n",
      "\n",
      "Generating song 5/5\n",
      "Created track for Soprano with 15 notes\n",
      "Created track for Alto with 10 notes\n",
      "Created track for Tenor with 17 notes\n",
      "Created track for Bass with 25 notes\n",
      "MIDI file saved: generated_midi/harmony_song_005.mid\n",
      "Created track for Soprano with 15 notes\n",
      "MIDI file saved: generated_midi/melody_song_005.mid\n",
      "\n",
      "✅ Generated 5 MIDI files in 'generated_midi' directory\n"
     ]
    },
    {
     "data": {
      "text/plain": [
       "MultiVoiceHarmonizationNetwork(\n",
       "  (input): Linear(in_features=2112, out_features=200, bias=True)\n",
       "  (hidden1): Linear(in_features=200, out_features=200, bias=True)\n",
       "  (dropout1): Dropout(p=0.5, inplace=False)\n",
       "  (hidden2): Linear(in_features=200, out_features=200, bias=True)\n",
       "  (dropout2): Dropout(p=0.5, inplace=False)\n",
       "  (forward_alto): Linear(in_features=200, out_features=2112, bias=True)\n",
       "  (forward_tenor): Linear(in_features=200, out_features=2112, bias=True)\n",
       "  (forward_bass): Linear(in_features=200, out_features=2560, bias=True)\n",
       ")"
      ]
     },
     "execution_count": 30,
     "metadata": {},
     "output_type": "execute_result"
    }
   ],
   "source": [
    "run_midi_generation(test_loader)"
   ]
  },
  {
   "cell_type": "markdown",
   "id": "d97d9a96",
   "metadata": {
    "slideshow": {
     "slide_type": "subslide"
    }
   },
   "source": [
    "## Baseline 1: Random Harmonization\n",
    "\n",
    "### **Concept**\n",
    "Generates completely random note predictions within valid voice ranges. This represents the weakest possible baseline - any reasonable model should significantly outperform random guessing.\n",
    "\n",
    "### **Algorithm**\n",
    "For each time step and each voice:\n",
    "1. Generate random integer between 0 and maximum note index\n",
    "2. Compare prediction with ground truth target\n",
    "3. Count correct predictions\n",
    "\n",
    "- **Interpretation**: If neural network performs near this level, it's not learning\n",
    "\n",
    "### **Use Case**\n",
    "- **Sanity check**: Verify evaluation pipeline works correctly\n",
    "- **Performance floor**: Absolute minimum any model should achieve\n",
    "- **Debugging**: Identify issues with data preprocessing or evaluatio"
   ]
  },
  {
   "cell_type": "markdown",
   "id": "ebd1359c",
   "metadata": {
    "slideshow": {
     "slide_type": "subslide"
    }
   },
   "source": [
    "\n",
    "## Baseline 2: Most Common Note\n",
    "\n",
    "### **Concept**  \n",
    "Always predicts the most frequently occurring note for each voice in the training data. This tests whether simple frequency-based statistical learning can solve the harmonization task.\n",
    "**Prediction Phase:**\n",
    "1. For every time step, predict the most common note\n",
    "2. Same prediction regardless of soprano melody or musical context\n",
    "\n",
    "### **Expected Performance**\n",
    "- **Range**: 5-15% depending on data distribution\n",
    "- **Higher if**: Training data has strong note frequency bias\n",
    "- **Lower if**: Bach's harmonies are relatively uniform across note ranges\n",
    "\n",
    "### **Musical Interpretation**\n",
    "This baseline tests whether Bach chorales have strong statistical biases toward certain notes. In classical harmony:\n",
    "- **Alto/Tenor**: Often use middle register notes (G4, A4, B4, C5)\n",
    "- **Bass**: Frequently uses chord roots and fifths\n",
    "- **Limitations**: Ignores melodic context, harmonic function, voice leading\n",
    "\n",
    "### **Use Case**\n",
    "- **Statistical learning**: Tests if frequency-based prediction works\n",
    "- **Data analysis**: Reveals note distribution patterns in Bach corpus\n",
    "- **Neural network comparison**: Model should learn more than simple statistics"
   ]
  },
  {
   "cell_type": "markdown",
   "id": "851931a8",
   "metadata": {
    "slideshow": {
     "slide_type": "subslide"
    }
   },
   "source": [
    "## Baseline 3: Rule-Based Harmonization\n",
    "\n",
    "### **Concept**\n",
    "Applies basic music theory rules to generate harmonies. Uses common chord patterns and intervallic relationships from traditional music theory to harmonize soprano melodies.\n",
    "\n",
    "### **Algorithm**\n",
    "For each time step:\n",
    "1. **Extract soprano note** from one-hot encoding\n",
    "2. **Handle silence**: If soprano is silent, predict silence for all voices\n",
    "3. **Select chord pattern**: Cycle through predefined patterns for variety\n",
    "4. **Calculate intervals**: Add pattern intervals to soprano MIDI note\n",
    "5. **Range checking**: Ensure generated notes fall within valid voice ranges\n",
    "6. **Convert to indices**: Transform MIDI notes back to encoding format\n",
    "\n",
    "### **Chord Patterns Explained**\n",
    "\n",
    "#### **Pattern 1: (-5, -9, -12) - Major Chord**\n",
    "- **Alto**: 4th below soprano (perfect 4th interval)\n",
    "- **Tenor**: 5th below soprano (perfect 5th interval)  \n",
    "- **Bass**: Octave below soprano\n",
    "- **Example**: Soprano C5 → Alto G4, Tenor F4, Bass C4\n",
    "- **Sound**: Close-position major triad\n",
    "\n",
    "#### **Pattern 2: (-3, -7, -12) - Minor Variant**\n",
    "- **Alto**: 3rd below soprano (major 3rd interval)\n",
    "- **Tenor**: 5th below soprano (perfect 5th interval)\n",
    "- **Bass**: Octave below soprano  \n",
    "- **Example**: Soprano C5 → Alto A4, Tenor F4, Bass C4\n",
    "- **Sound**: Minor triad feeling\n",
    "\n",
    "#### **Pattern 3: (-5, -8, -15) - Wider Spacing**\n",
    "- **Alto**: 4th below soprano\n",
    "- **Tenor**: 6th below soprano (major 6th interval)\n",
    "- **Bass**: Two octaves below soprano\n",
    "- **Example**: Soprano C5 → Alto G4, Tenor E4, Bass C3\n",
    "- **Sound**: More open, orchestral spacing\n",
    "\n",
    "### **Expected Performance**\n",
    "- **Strengths**: Musically coherent, follows voice leading principles\n",
    "- **Limitations**: \n",
    "  - No harmonic progression logic\n",
    "  - Doesn't consider musical context\n",
    "  - Fixed patterns regardless of melodic direction\n",
    "  - No awareness of cadences or phrase structure\n",
    "\n",
    "### **Musical Validity**\n",
    "**What it gets right:**\n",
    "- **Voice spacing**: Maintains appropriate intervals between voices\n",
    "- **Range adherence**: Keeps voices in singable ranges\n",
    "- **Consonance**: Generates mostly consonant harmonies\n",
    "- **Voice leading**: Some patterns promote smooth voice motion\n",
    "\n",
    "**What it misses:**\n",
    "- **Harmonic function**: No concept of tonic, dominant, subdominant\n",
    "- **Chord progressions**: No logic for chord-to-chord movement  \n",
    "- **Voice leading rules**: No prevention of parallel fifths/octaves\n",
    "- **Musical phrases**: No understanding of phrase beginnings/endings\n",
    "- **Stylistic nuance**: Missing Bach's specific harmonic language\n",
    "\n",
    "### **Use Case**\n",
    "- **Music theory validation**: Tests if basic theory beats data-driven approaches\n",
    "- **Expert knowledge**: Represents human musical knowledge baseline\n",
    "- **Interpretability**: Easy to understand why it makes specific predictions\n",
    "- **Neural network target**: Model should learn these patterns plus much more\n",
    "\n",
    "---"
   ]
  },
  {
   "cell_type": "code",
   "execution_count": null,
   "id": "b001229c",
   "metadata": {
    "slideshow": {
     "slide_type": "subslide"
    }
   },
   "outputs": [
    {
     "name": "stdout",
     "output_type": "stream",
     "text": [
      "Evaluating Three Baseline Models...\n",
      "==================================================\n",
      "1. Random Baseline...\n",
      "   Accuracy: 0.0269\n",
      "\n",
      "2. Most Common Note Baseline...\n",
      "Most common notes: {'alto': 16, 'tenor': 15, 'bass': 22}\n",
      "   Accuracy: 0.1134\n",
      "\n",
      "3. Rule-Based Baseline...\n",
      "   Accuracy: 0.1308\n",
      "\n",
      "==================================================\n",
      "BASELINE COMPARISON:\n",
      "  Random         : 0.0269\n",
      "  Most Common    : 0.1134\n",
      "  Rule-Based     : 0.1308\n"
     ]
    }
   ],
   "source": [
    "results = evaluate_three_baselines(train_loader, test_loader, VOICE_RANGES, device) ### Our Model was 22.3%"
   ]
  },
  {
   "cell_type": "markdown",
   "id": "89add24e",
   "metadata": {},
   "source": [
    "## Neural Network for Bach Harmonization: Results & Evaluation\n",
    "\n",
    "### Test Accuracy\n",
    "- **Neural Network:** **22.3%**\n",
    "- **Random Baseline:** 2.69%  \n",
    "  → *8.3× improvement*\n",
    "- **Statistical (Frequency-Based):** 11.34%  \n",
    "  → *+97% improvement*\n",
    "- **Rule-Based (Music Theory):** 13.08%  \n",
    "  → *+70% improvement*\n",
    "\n",
    "### Voice-Specific Performance\n",
    "- **Alto:** 26.6% (Highest, reflects accompaniment role)\n",
    "- **Tenor:** 21.5%\n",
    "- **Bass:** 18.8% (Lowest, most foundational & complex)\n",
    "\n",
    "> These results indicate that the model has **learned contextual harmonization patterns** characteristic of **Baroque musical language**, not just memorized note frequencies.\n",
    "\n",
    "---\n",
    "\n",
    "### Why Accuracy?\n",
    "- **Universal metric across all models**  \n",
    "  (NN, random, statistical, and rule-based all output class indices)\n",
    "- **Fair & interpretable:**  \n",
    "  - Easy to understand: *\"What % of notes are correctly predicted?\"*\n",
    "  - Avoids limitations of metrics like **perplexity**, which require probability distributions that some baselines can't provide\n",
    "\n",
    "---\n",
    "\n",
    "### Takeaway\n",
    "> While not yet at expert human levels, the **22.3% accuracy demonstrates real musical learning**.  \n",
    "> This model forms a **solid foundation for automated Bach-style composition**.\n"
   ]
  },
  {
   "cell_type": "markdown",
   "id": "39f7efc0",
   "metadata": {
    "slideshow": {
     "slide_type": "subslide"
    }
   },
   "source": [
    "---\n",
    "\n",
    "## Training Characteristics\n",
    "\n",
    "### **Loss Function**: `nn.NLLLoss()` (Negative Log Likelihood)\n",
    "### **Optimizer**: SGD with momentum (lr=0.01, momentum=0.9)\n",
    "### **Regularization**: Dropout (p=0.5) in hidden layers\n",
    "### **Batch Size**: 4 sequences per batch\n",
    "### **Sequence Length**: 64 time steps (16 beats, ~4 measures)\n",
    "\n",
    "### **Training Strategy:**\n",
    "- **Multi-task learning**: Trains 3 voice parts simultaneously\n",
    "- **Teacher forcing**: Uses ground truth soprano, predicts other voices\n",
    "- **Curriculum**: No curriculum, learns on full sequences from start\n",
    "\n",
    "---\n",
    "\n",
    "## Strengths & Limitations\n",
    "\n",
    "### **Strengths:**\n",
    "- **Simple and fast**: Feedforward architecture trains quickly  \n",
    "- **Full context**: Sees entire melody when making predictions  \n",
    "- **Multi-voice**: Generates complete 4-part harmonies  \n",
    "- **Style learning**: Captures Bach's harmonic patterns effectively  \n",
    "\n",
    "### **Limitations:**  \n",
    "- **Fixed length**: Only works with exactly 64-note sequences  \n",
    "- **No recurrence**: Limited temporal modeling compared to RNNs  \n",
    "- **Rhythm constraints**: Basic rhythm representation (quantized grid)  \n",
    "- **Voice independence**: Doesn't model inter-voice dependencies strongly\n",
    "- **Temporal timing**: Assumes one consistent long held note and not short notes for sequence of same note\n",
    "\n",
    "---\n",
    "\n",
    "## Modern Improvements\n",
    "\n",
    "This architecture could be enhanced with:\n",
    "- **Transformer layers**: Better sequence modeling\n",
    "- **Attention mechanisms**: Focus on relevant parts of melody  \n",
    "- **Recurrent connections**: Better temporal dependencies\n",
    "- **Variable length**: Handle sequences of different lengths\n",
    "- **Multi-scale**: Multiple time resolutions for rhythm"
   ]
  }
 ],
 "metadata": {
  "kernelspec": {
   "display_name": "capstone",
   "language": "python",
   "name": "python3"
  },
  "language_info": {
   "codemirror_mode": {
    "name": "ipython",
    "version": 3
   },
   "file_extension": ".py",
   "mimetype": "text/x-python",
   "name": "python",
   "nbconvert_exporter": "python",
   "pygments_lexer": "ipython3",
   "version": "3.12.6"
  }
 },
 "nbformat": 4,
 "nbformat_minor": 5
}
