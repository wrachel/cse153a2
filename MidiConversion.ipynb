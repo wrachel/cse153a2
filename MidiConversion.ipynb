{
  "cells": [
    {
      "cell_type": "code",
      "execution_count": 1,
      "metadata": {
        "id": "RuPEZa2o8pKE"
      },
      "outputs": [],
      "source": [
        "from mido import Message, MidiFile, MidiTrack\n",
        "import os"
      ]
    },
    {
      "cell_type": "code",
      "execution_count": 2,
      "metadata": {
        "id": "EwpYVMZd9dJ7"
      },
      "outputs": [],
      "source": [
        "import pickle\n",
        "with open('jsb-chorales-16th.pkl', 'rb') as p:\n",
        "    data = pickle.load(p, encoding=\"latin1\")"
      ]
    },
    {
      "cell_type": "code",
      "execution_count": 3,
      "metadata": {
        "id": "RintMpXq-rXg"
      },
      "outputs": [
        {
          "name": "stdout",
          "output_type": "stream",
          "text": [
            "dict_keys(['test', 'train', 'valid'])\n"
          ]
        }
      ],
      "source": [
        "def notes_to_midi(note_array, outpath):\n",
        "    mid = MidiFile()\n",
        "    track = MidiTrack()\n",
        "    mid.tracks.append(track)\n",
        "    TICKS_PER_BEAT = 480\n",
        "    step_time = TICKS_PER_BEAT // 4  # 1 beat per step\n",
        "    velocity = 64\n",
        "\n",
        "    previous_notes = set()\n",
        "    curr_time = 0\n",
        "    for chord in note_array:\n",
        "        current_notes = set(chord)\n",
        "        current_notes = {int(n) for n in current_notes}\n",
        "\n",
        "        # Notes to turn off (not in current chord)\n",
        "        for note in previous_notes - current_notes:\n",
        "            track.append(Message('note_off', note=note, velocity=velocity, time=curr_time))\n",
        "\n",
        "        # Notes to turn on (new in current chord)\n",
        "        for note in current_notes - previous_notes:\n",
        "            track.append(Message('note_on', note=note, velocity=velocity, time=curr_time))\n",
        "\n",
        "        previous_notes = current_notes\n",
        "        curr_time += step_time\n",
        "\n",
        "    # Turn off all remaining notes at the end\n",
        "    for note in previous_notes:\n",
        "        track.append(Message('note_off', note=note, velocity=velocity, time=curr_time))\n",
        "\n",
        "    mid.save(outpath)\n",
        "\n",
        "notes_to_midi(data['train'][0], \"output.mid\")\n",
        "print(data.keys())"
      ]
    },
    {
      "cell_type": "code",
      "execution_count": 7,
      "metadata": {},
      "outputs": [
        {
          "name": "stdout",
          "output_type": "stream",
          "text": [
            "Folders created successfully.\n"
          ]
        }
      ],
      "source": [
        "try:\n",
        "    os.mkdir(\"train_data\")\n",
        "    os.mkdir(\"valid_data\")\n",
        "    os.mkdir(\"test_data\")\n",
        "    print(f\"Folders created successfully.\")\n",
        "except FileExistsError:\n",
        "    print(f\"Folders already exists.\")\n",
        "except Exception as e:\n",
        "    print(f\"An error occurred: {e}\")\n",
        "\n"
      ]
    },
    {
      "cell_type": "code",
      "execution_count": 9,
      "metadata": {},
      "outputs": [],
      "source": [
        "for i in range(len(data['train'])):\n",
        "    notes_to_midi(data['train'][i], f\"train_data/train_{i:02d}.mid\")\n",
        "for i in range(len(data['valid'])):\n",
        "    notes_to_midi(data['valid'][i], f\"valid_data/valid_{i:02d}.mid\")\n",
        "for i in range(len(data['test'])):\n",
        "    notes_to_midi(data['test'][i], f\"test_data/test_{i:02d}.mid\")"
      ]
    },
    {
      "cell_type": "code",
      "execution_count": null,
      "metadata": {},
      "outputs": [],
      "source": []
    }
  ],
  "metadata": {
    "colab": {
      "provenance": []
    },
    "kernelspec": {
      "display_name": "capstone",
      "language": "python",
      "name": "python3"
    },
    "language_info": {
      "codemirror_mode": {
        "name": "ipython",
        "version": 3
      },
      "file_extension": ".py",
      "mimetype": "text/x-python",
      "name": "python",
      "nbconvert_exporter": "python",
      "pygments_lexer": "ipython3",
      "version": "3.12.6"
    }
  },
  "nbformat": 4,
  "nbformat_minor": 0
}
