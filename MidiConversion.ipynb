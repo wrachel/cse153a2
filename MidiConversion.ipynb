{
  "nbformat": 4,
  "nbformat_minor": 0,
  "metadata": {
    "colab": {
      "provenance": []
    },
    "kernelspec": {
      "name": "python3",
      "display_name": "Python 3"
    },
    "language_info": {
      "name": "python"
    }
  },
  "cells": [
    {
      "cell_type": "code",
      "execution_count": 21,
      "metadata": {
        "id": "RuPEZa2o8pKE"
      },
      "outputs": [],
      "source": [
        "from mido import Message, MidiFile, MidiTrack"
      ]
    },
    {
      "cell_type": "code",
      "source": [
        "import pickle\n",
        "with open('jsb-chorales-16th.pkl', 'rb') as p:\n",
        "    data = pickle.load(p, encoding=\"latin1\")"
      ],
      "metadata": {
        "id": "EwpYVMZd9dJ7"
      },
      "execution_count": 2,
      "outputs": []
    },
    {
      "cell_type": "code",
      "source": [
        "def notes_to_midi(note_array, outpath):\n",
        "    mid = MidiFile()\n",
        "    track = MidiTrack()\n",
        "    mid.tracks.append(track)\n",
        "    TICKS_PER_BEAT = 480\n",
        "    step_time = TICKS_PER_BEAT // 4  # 1 beat per step\n",
        "    velocity = 64\n",
        "\n",
        "    previous_notes = set()\n",
        "    curr_time = 0\n",
        "    for chord in note_array:\n",
        "        current_notes = set(chord)\n",
        "\n",
        "        # Notes to turn off (not in current chord)\n",
        "        for note in previous_notes - current_notes:\n",
        "            track.append(Message('note_off', note=note, velocity=velocity, time=curr_time))\n",
        "\n",
        "        # Notes to turn on (new in current chord)\n",
        "        for note in current_notes - previous_notes:\n",
        "            track.append(Message('note_on', note=note, velocity=velocity, time=curr_time))\n",
        "\n",
        "        previous_notes = current_notes\n",
        "        curr_time += step_time\n",
        "\n",
        "    # Turn off all remaining notes at the end\n",
        "    for note in previous_notes:\n",
        "        track.append(Message('note_off', note=note, velocity=velocity, time=curr_time))\n",
        "\n",
        "    mid.save(outpath)\n",
        "\n",
        "notes_to_midi(data['train'][0], \"output.mid\")"
      ],
      "metadata": {
        "id": "RintMpXq-rXg"
      },
      "execution_count": 24,
      "outputs": []
    },
    {
      "cell_type": "code",
      "source": [],
      "metadata": {
        "id": "fIw17rC_DKp6"
      },
      "execution_count": null,
      "outputs": []
    }
  ]
}